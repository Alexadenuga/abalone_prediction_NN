{
 "cells": [
  {
   "cell_type": "markdown",
   "metadata": {},
   "source": [
    "# PREDICTING THE AGE OF ABALONE USING NEURAL NETWORKS"
   ]
  },
  {
   "cell_type": "markdown",
   "metadata": {},
   "source": [
    "## Dataset Information\n",
    "The boring and time consuming process of predicting the age of Abalone (Marine snails) is usually by cutting the shell through the cone, staining it and counting the number of rings through microscope. The easier and yet effective method is by using an easier to obtain measurements to predict the the number of rings that tells us the age."
   ]
  },
  {
   "cell_type": "code",
   "execution_count": 1,
   "metadata": {},
   "outputs": [],
   "source": [
    "#Loading libraries\n",
    "import pandas as pd\n",
    "import keras\n",
    "from tensorflow import keras\n",
    "import matplotlib.pyplot as plt\n",
    "from tensorflow.keras import layers\n",
    "from sklearn.model_selection import train_test_split"
   ]
  },
  {
   "cell_type": "code",
   "execution_count": 2,
   "metadata": {},
   "outputs": [],
   "source": [
    "#loading the data\n",
    "abalone = pd.read_csv(\"abalone.csv\")"
   ]
  },
  {
   "cell_type": "markdown",
   "metadata": {},
   "source": [
    "## The Model\n",
    "An input layer of  shape = 8  was used with 64 and 32 hidden layers activation functions of Rectified Linear Units (ReLU), while \"Linear\" was used as the output layer function since we are predicting number of rings in Abalone which is used to tell the Age and is continuous. \n",
    "\n",
    "Furthermore, in compiling the model; Adaptive Moment Estimation (adam) was used as the optimizer and Mean Absolute error (mae) was employed for the loss function."
   ]
  },
  {
   "cell_type": "code",
   "execution_count": 4,
   "metadata": {},
   "outputs": [],
   "source": [
    "# Preprocessing the data    \n",
    "abalone_copy = abalone.copy()\n",
    "\n",
    "abalone_copy[\"Type\"] = abalone_copy['Type'].map({'M': 2, 'F': 1, 'I': 0})"
   ]
  },
  {
   "cell_type": "code",
   "execution_count": 5,
   "metadata": {},
   "outputs": [],
   "source": [
    "# Splitting the data into train and test\n",
    "abalone_train_full = abalone_copy.sample(frac=0.8, random_state=0)\n",
    "abalone_test = abalone_copy.drop(abalone_train_full.index)\n",
    "\n",
    "max_ = abalone_train_full.max(axis=0)\n",
    "min_ = abalone_train_full.min(axis=0)\n",
    "\n",
    "abalone_train_full = (abalone_train_full - min_) / (max_ - min_)\n",
    "abalone_test = (abalone_test - min_) / (max_ - min_)\n",
    "\n",
    "\n",
    "X_test = abalone_test.drop('Rings', axis=1)\n",
    "y_test = abalone_test['Rings']\n",
    "\n",
    "\n",
    "train_set, valid_set = train_test_split(\n",
    "    abalone_train_full, test_size=0.5, random_state=0)\n",
    "\n",
    "X_train = train_set.drop('Rings', axis=1)\n",
    "y_train = train_set['Rings']\n",
    "\n",
    "X_valid = valid_set.drop('Rings', axis=1)\n",
    "y_valid = valid_set['Rings']"
   ]
  }
 ],
 "metadata": {
  "kernelspec": {
   "display_name": ".venv",
   "language": "python",
   "name": "python3"
  },
  "language_info": {
   "codemirror_mode": {
    "name": "ipython",
    "version": 3
   },
   "file_extension": ".py",
   "mimetype": "text/x-python",
   "name": "python",
   "nbconvert_exporter": "python",
   "pygments_lexer": "ipython3",
   "version": "3.11.4"
  }
 },
 "nbformat": 4,
 "nbformat_minor": 2
}
